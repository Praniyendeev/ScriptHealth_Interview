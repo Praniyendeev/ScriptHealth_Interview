{
 "cells": [
  {
   "cell_type": "markdown",
   "metadata": {},
   "source": [
    "Q1. Suppose that we design a deep architecture to represent a sequence by stacking self-attention layers with positional encoding. What could be issues? (paragraph format)\n",
    "\n",
    "Ans1:\n",
    "\n",
    "The issues for the above condition can be categorized into three different areas:\n",
    "\n",
    "1. Depth\n",
    "\t- If the dataset is small or contains a lot of variation, then the deep models tend to memorize the data and overfit\n",
    "\t- If skip connections are not implemented between the layers, the gradient during backpropagation vanishes before it reaches some of the initial layers.\n",
    "\t- On a similar note, without proper regularization, normalization, and activations, the loss might be too significant and would lead to NaN gradients\n",
    "2. Self attention\n",
    "\t- Self attention though revolutionary, requires large amounts of data(pre-training) before it can start performing significantly compared to RNNs\n",
    "\t- Self-attention can theoretically scale to Infinite sequence lengths. However, this scaling is done at the expense of quadratically increased time and space requirements.\n",
    "\t- Due to their fully connected nature, self-attention mechanisms tend to learn trivial solutions based on some inherent information.\n",
    "3. positional encoding\n",
    "\t- If the relationships between various time steps are not based simply on their relative positions, then the classic sine /cosine encoding will not be able to encapsulate these relationships and will lead to a sub-optimal model.\n",
    "\t- Positional encoding could lead to an overfit model utterly dependent on the positions and failing to learn from the data embeddings.\n",
    "\t- On the other hand, a learnable encoding that could mitigate this issue would require vast amounts of data (with many variabilities) to capture the optimal encoding accurately.\n",
    "\n",
    "Self-attention and positional encodings are revolutionary inventions; however, they are much more computationally expensive than RNN and CNN-based architectures. Moreover, they are also highly data-hungry. However, we can achieve close to optimal performance with transformers with suitable normalization, regularization, well-processed datasets, and custom positional information to encapsulate relationships fully.\n"
   ]
  },
  {
   "cell_type": "code",
   "execution_count": 3,
   "metadata": {},
   "outputs": [
    {
     "name": "stdout",
     "output_type": "stream",
     "text": [
      "input is a sequence of integers of sequence_length(10):\n",
      " tensor([829, 317, 761, 762, 535, 937, 935, 482, 541, 938]) \n",
      "\n",
      "input shape: torch.Size([10])\n",
      "positional_embedding shape: torch.Size([10, 256])\n",
      "output shape: torch.Size([10, 256])\n"
     ]
    }
   ],
   "source": [
    "#Q2: Can you design a learnable positional encoding method using pytorch? (Create dummy dataset)\n",
    "\n",
    "\n",
    "import torch\n",
    "from torch import nn\n",
    "\n",
    "\n",
    "class customEmbedding(nn.Module):\n",
    "    def __init__(self, hidden_dim, sequence_len, vocab_size):\n",
    "        super().__init__()\n",
    "\n",
    "        self.embed = nn.Embedding(vocab_size,hidden_dim)\n",
    "        self.pos_emb = nn.Embedding(sequence_len,hidden_dim)\n",
    "\n",
    "    def forward(self,x): # \n",
    "        x = self.embed(x) + self.pos_emb.weight\n",
    "        \n",
    "        return x\n",
    "        \n",
    "vocab_size=1000\n",
    "sequence_length=10\n",
    "hidden_dim=256\n",
    "cstmEmbed= customEmbedding(hidden_dim,sequence_length, vocab_size)\n",
    "inputSeq = torch.randperm(vocab_size)[:sequence_length]\n",
    "print(\"input is a sequence of integers of sequence_length(10):\\n\",inputSeq,\"\\n\")\n",
    "\n",
    "print(\"input shape:\",inputSeq.shape)\n",
    "print(\"positional_embedding shape:\",cstmEmbed.pos_emb.weight.shape)\n",
    "print(\"output shape:\",cstmEmbed(inputSeq).shape)\n"
   ]
  },
  {
   "cell_type": "code",
   "execution_count": null,
   "metadata": {},
   "outputs": [],
   "source": []
  }
 ],
 "metadata": {
  "kernelspec": {
   "display_name": "aml",
   "language": "python",
   "name": "python3"
  },
  "language_info": {
   "codemirror_mode": {
    "name": "ipython",
    "version": 3
   },
   "file_extension": ".py",
   "mimetype": "text/x-python",
   "name": "python",
   "nbconvert_exporter": "python",
   "pygments_lexer": "ipython3",
   "version": "3.11.4"
  },
  "orig_nbformat": 4
 },
 "nbformat": 4,
 "nbformat_minor": 2
}
